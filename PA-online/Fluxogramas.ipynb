{
  "nbformat": 4,
  "nbformat_minor": 0,
  "metadata": {
    "colab": {
      "provenance": [],
      "authorship_tag": "ABX9TyOMFQqY8REJiI0mXR0IZHXn",
      "include_colab_link": true
    },
    "kernelspec": {
      "name": "python3",
      "display_name": "Python 3"
    },
    "language_info": {
      "name": "python"
    }
  },
  "cells": [
    {
      "cell_type": "markdown",
      "metadata": {
        "id": "view-in-github",
        "colab_type": "text"
      },
      "source": [
        "<a href=\"https://colab.research.google.com/github/arthur-tuko/PA-online/blob/main/PA-online/Fluxogramas.ipynb\" target=\"_parent\"><img src=\"https://colab.research.google.com/assets/colab-badge.svg\" alt=\"Open In Colab\"/></a>"
      ]
    },
    {
      "cell_type": "code",
      "source": [
        "#Calculo de imposto\n",
        "\n",
        "##Entrada\n",
        "custo_de_fabrica = float(input('digite o preço de fabrica do carro   '))\n",
        "imposto = (custo_de_fabrica*45/100)\n",
        "distribuição = (custo_de_fabrica*28/100)\n",
        "\n",
        "##Processamento\n",
        "Para_o_consumidor = (custo_de_fabrica + imposto + distribuição)\n",
        "\n",
        "##Saida\n",
        "\n",
        "print('o valor para o cliente é',Para_o_consumidor)"
      ],
      "metadata": {
        "colab": {
          "base_uri": "https://localhost:8080/"
        },
        "id": "YXVg8u7EYuNm",
        "outputId": "984a1764-788c-4a89-8223-526aa59f651f"
      },
      "execution_count": 19,
      "outputs": [
        {
          "output_type": "stream",
          "name": "stdout",
          "text": [
            "digite o preço de fabrica do carro   25000\n",
            "o valor para o cliente é 43250.0\n"
          ]
        }
      ]
    },
    {
      "cell_type": "code",
      "source": [
        "#converta minutos e horas em segundos\n",
        "\n",
        "\n",
        "##Entrada\n",
        "horas = float(input('digite a quantidade de horas   '))\n",
        "minutos = float(input('digite a quantidade de minutos   '))\n",
        "\n",
        "\n",
        "##Processamento\n",
        "segundos = (horas * 3600) + (minutos * 60)\n",
        "horas_decimal = minutos / 60\n",
        "tempo_decimal = horas + horas_decimal\n",
        "\n",
        "##saida\n",
        "print(f'{horas} horas e {minutos} minutos equivalem a {tempo_decimal:.2f} horas.')\n",
        "print(f'{horas} horas e {minutos} minutos equivalem a {segundos} segundos.')\n"
      ],
      "metadata": {
        "colab": {
          "base_uri": "https://localhost:8080/"
        },
        "id": "jnpHEzbPkv8e",
        "outputId": "b84d50c2-586c-49e3-c32e-a2c2763a98f9"
      },
      "execution_count": 49,
      "outputs": [
        {
          "output_type": "stream",
          "name": "stdout",
          "text": [
            "digite a quantidade de horas   12\n",
            "digite a quantidade de minutos   12\n",
            "12.0 horas e 12.0 minutos equivalem a 12.20 horas.\n",
            "12.0 horas e 12.0 minutos equivalem a 43920.0 segundos.\n"
          ]
        }
      ]
    },
    {
      "cell_type": "code",
      "source": [
        "##Horas extras\n",
        "\n",
        "##Entradas\n",
        "horas = float(input(\"Quantas tempo de horas extras você fez? \"))\n",
        "minutos = float(input(\"Tirando as horas, quantos minutos você tambem compriu de tempo extra?  \"))\n",
        "valor_por_hora = float(input(\"Quanto você recebe pela hora extra? \"))\n",
        "\n",
        "##Processamento\n",
        "hora_extra = horas +(minutos/60)\n",
        "salario = (hora_extra * valor_por_hora)\n",
        "bonus = (salario * 70/100) + salario\n",
        "\n",
        "##Saida\n",
        "print(f\"Você deve receber R${bonus:.2f} de hora extra.\")"
      ],
      "metadata": {
        "colab": {
          "base_uri": "https://localhost:8080/"
        },
        "id": "RcfyU5ivu822",
        "outputId": "134dc54f-aabb-4e13-9c7e-27f699cb3e3d"
      },
      "execution_count": 54,
      "outputs": [
        {
          "output_type": "stream",
          "name": "stdout",
          "text": [
            "Quantas tempo de horas extras você fez? 2\n",
            "Tirando as horas, quantos minutos você tambem compriu de tempo extra?  35\n",
            "Quanto você recebe pela hora extra? 150\n",
            "Você deve receber R$658.75 de hora extra.\n"
          ]
        }
      ]
    }
  ]
}